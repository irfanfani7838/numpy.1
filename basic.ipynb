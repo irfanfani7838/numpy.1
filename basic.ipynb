{
 "cells": [
  {
   "cell_type": "code",
   "execution_count": 14,
   "metadata": {},
   "outputs": [
    {
     "name": "stdout",
     "output_type": "stream",
     "text": [
      "Simply print numpy array.\n",
      " [ 1  2  4  6 78  8  2]\n"
     ]
    }
   ],
   "source": [
    "import numpy as np  ## ipmorting numpy library here...\n",
    "\n",
    "a = np.array([1,2,4,6,78,8,2])\n",
    "print(\"Simply print numpy array.\\n\",a)\n",
    "## printing numpy array..."
   ]
  },
  {
   "cell_type": "code",
   "execution_count": 24,
   "metadata": {},
   "outputs": [
    {
     "name": "stdout",
     "output_type": "stream",
     "text": [
      "This is addition of array with number.\n",
      " [ 5  6  8 10 82 12  6]\n"
     ]
    }
   ],
   "source": [
    "## perfroming simple arithematic operations on numpy array...\n",
    "print(\"This is addition of array with number.\\n\",a + 4)      \n",
    "## adding by number... "
   ]
  },
  {
   "cell_type": "code",
   "execution_count": 25,
   "metadata": {},
   "outputs": [
    {
     "name": "stdout",
     "output_type": "stream",
     "text": [
      "This is subtraction of array with number.\n",
      " [ 2  3  5  7 79  9  3]\n"
     ]
    }
   ],
   "source": [
    "## perfroming simple arithematic operations on numpy array...\n",
    "print(\"This is subtraction of array with number.\\n\",a - -1)     \n",
    "  ## subtraction by number..."
   ]
  },
  {
   "cell_type": "code",
   "execution_count": 26,
   "metadata": {},
   "outputs": [
    {
     "name": "stdout",
     "output_type": "stream",
     "text": [
      "This is multiplication of array with number.\n",
      " [  4   8  16  24 312  32   8]\n"
     ]
    }
   ],
   "source": [
    "## perfroming simple arithematic operations on numpy array...\n",
    "print(\"This is multiplication of array with number.\\n\",a * 4)  \n",
    "  ## multiplication by number..."
   ]
  },
  {
   "cell_type": "code",
   "execution_count": 30,
   "metadata": {},
   "outputs": [
    {
     "name": "stdout",
     "output_type": "stream",
     "text": [
      "This is division of array with number.\n",
      " [ 0.33333333  0.66666667  1.33333333  2.         26.          2.66666667\n",
      "  0.66666667]\n"
     ]
    }
   ],
   "source": [
    "## perfroming simple arithematic operations on numpy array...\n",
    "print(\"This is division of array with number.\\n\",a / 3)       \n",
    "  ## division by number... "
   ]
  },
  {
   "cell_type": "code",
   "execution_count": 31,
   "metadata": {},
   "outputs": [
    {
     "name": "stdout",
     "output_type": "stream",
     "text": [
      "This is addition of array itself.\n",
      " [  2   4   8  12 156  16   4]\n"
     ]
    }
   ],
   "source": [
    "## operation with arrays\n",
    "print(\"This is addition of array itself.\\n\",a + a)        \n",
    " ## this will add array itself..."
   ]
  },
  {
   "cell_type": "code",
   "execution_count": 32,
   "metadata": {},
   "outputs": [
    {
     "name": "stdout",
     "output_type": "stream",
     "text": [
      "This is subtraction of array itself.\n",
      " [0 0 0 0 0 0 0]\n"
     ]
    }
   ],
   "source": [
    "print(\"This is subtraction of array itself.\\n\",a - a)        \n",
    "## this will subtract array itself..."
   ]
  },
  {
   "cell_type": "code",
   "execution_count": 33,
   "metadata": {},
   "outputs": [
    {
     "name": "stdout",
     "output_type": "stream",
     "text": [
      "This is multiplication of array itself.\n",
      " [   1    4   16   36 6084   64    4]\n"
     ]
    }
   ],
   "source": [
    "print(\"This is multiplication of array itself.\\n\",a * a)       \n",
    "  ## this will multiply array itself..."
   ]
  },
  {
   "cell_type": "code",
   "execution_count": 37,
   "metadata": {},
   "outputs": [
    {
     "name": "stdout",
     "output_type": "stream",
     "text": [
      "This is division of array itself.\n",
      " [1. 1. 1. 1. 1. 1. 1.]\n"
     ]
    }
   ],
   "source": [
    "print(\"This is division of array itself.\\n\",a / a)      \n",
    "   ## this will divide array itself..."
   ]
  }
 ],
 "metadata": {
  "kernelspec": {
   "display_name": "Python 3",
   "language": "python",
   "name": "python3"
  },
  "language_info": {
   "codemirror_mode": {
    "name": "ipython",
    "version": 3
   },
   "file_extension": ".py",
   "mimetype": "text/x-python",
   "name": "python",
   "nbconvert_exporter": "python",
   "pygments_lexer": "ipython3",
   "version": "3.12.0"
  }
 },
 "nbformat": 4,
 "nbformat_minor": 2
}
